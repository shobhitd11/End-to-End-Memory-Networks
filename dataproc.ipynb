{
 "cells": [
  {
   "cell_type": "code",
   "execution_count": 1,
   "metadata": {},
   "outputs": [
    {
     "name": "stdout",
     "output_type": "stream",
     "text": [
      "./tasks_1-20_v1-2/en/qa1_single-supporting-fact_train.txt\n",
      "./tasks_1-20_v1-2/en/qa2_two-supporting-facts_train.txt\n",
      "./tasks_1-20_v1-2/en/qa3_three-supporting-facts_train.txt\n",
      "./tasks_1-20_v1-2/en/qa4_two-arg-relations_train.txt\n",
      "./tasks_1-20_v1-2/en/qa5_three-arg-relations_train.txt\n",
      "./tasks_1-20_v1-2/en/qa6_yes-no-questions_train.txt\n",
      "./tasks_1-20_v1-2/en/qa7_counting_train.txt\n",
      "./tasks_1-20_v1-2/en/qa8_lists-sets_train.txt\n",
      "./tasks_1-20_v1-2/en/qa9_simple-negation_train.txt\n",
      "./tasks_1-20_v1-2/en/qa10_indefinite-knowledge_train.txt\n",
      "./tasks_1-20_v1-2/en/qa11_basic-coreference_train.txt\n",
      "./tasks_1-20_v1-2/en/qa12_conjunction_train.txt\n",
      "./tasks_1-20_v1-2/en/qa13_compound-coreference_train.txt\n",
      "./tasks_1-20_v1-2/en/qa14_time-reasoning_train.txt\n",
      "./tasks_1-20_v1-2/en/qa15_basic-deduction_train.txt\n",
      "./tasks_1-20_v1-2/en/qa16_basic-induction_train.txt\n",
      "./tasks_1-20_v1-2/en/qa17_positional-reasoning_train.txt\n",
      "./tasks_1-20_v1-2/en/qa18_size-reasoning_train.txt\n",
      "./tasks_1-20_v1-2/en/qa19_path-finding_train.txt\n",
      "./tasks_1-20_v1-2/en/qa20_agents-motivations_train.txt\n"
     ]
    }
   ],
   "source": [
    "import glob\n",
    "import os\n",
    "\n",
    "QA = 20\n",
    "train = {}\n",
    "for i in range(QA):  \n",
    "    if (i+1) not in train:\n",
    "        train[i+1] = {}\n",
    "    \n",
    "    search_test = './tasks_1-20_v1-2/en/qa'+str(i+1)+'_*_test.txt'\n",
    "    search_train = './tasks_1-20_v1-2/en/qa'+str(i+1)+'_*_train.txt'\n",
    "    for filename in glob.glob(search_train):\n",
    "        print(filename)    \n",
    "        with open(filename) as f:\n",
    "            Flag = False\n",
    "            counter = 0\n",
    "            for line in f:\n",
    "                lines = line.split('\\t')\n",
    "                if(len(lines)==1):\n",
    "                    if(Flag==True):\n",
    "                        counter+=1\n",
    "                        Flag = False\n",
    "                    if counter in train[i+1]:\n",
    "                        if 'memory' in train[i+1][counter]:\n",
    "                            train[i+1][counter]['memory'].append(line)\n",
    "                        else:\n",
    "                            train[i+1][counter]['memory'] = [line]\n",
    "                    else:\n",
    "                        train[i+1][counter] = {}\n",
    "                        train[i+1][counter]['memory'] = [line]\n",
    "                else:\n",
    "                    train[i+1][counter]['query'] = lines[0]\n",
    "                    train[i+1][counter]['answer'] = lines[1]\n",
    "                    train[i+1][counter]['fact'] = lines[2]\n",
    "                    Flag = True\n",
    "                    \n"
   ]
  },
  {
   "cell_type": "code",
   "execution_count": 2,
   "metadata": {},
   "outputs": [
    {
     "name": "stdout",
     "output_type": "stream",
     "text": [
      "./tasks_1-20_v1-2/en/qa1_single-supporting-fact_test.txt\n",
      "./tasks_1-20_v1-2/en/qa2_two-supporting-facts_test.txt\n",
      "./tasks_1-20_v1-2/en/qa3_three-supporting-facts_test.txt\n",
      "./tasks_1-20_v1-2/en/qa4_two-arg-relations_test.txt\n",
      "./tasks_1-20_v1-2/en/qa5_three-arg-relations_test.txt\n",
      "./tasks_1-20_v1-2/en/qa6_yes-no-questions_test.txt\n",
      "./tasks_1-20_v1-2/en/qa7_counting_test.txt\n",
      "./tasks_1-20_v1-2/en/qa8_lists-sets_test.txt\n",
      "./tasks_1-20_v1-2/en/qa9_simple-negation_test.txt\n",
      "./tasks_1-20_v1-2/en/qa10_indefinite-knowledge_test.txt\n",
      "./tasks_1-20_v1-2/en/qa11_basic-coreference_test.txt\n",
      "./tasks_1-20_v1-2/en/qa12_conjunction_test.txt\n",
      "./tasks_1-20_v1-2/en/qa13_compound-coreference_test.txt\n",
      "./tasks_1-20_v1-2/en/qa14_time-reasoning_test.txt\n",
      "./tasks_1-20_v1-2/en/qa15_basic-deduction_test.txt\n",
      "./tasks_1-20_v1-2/en/qa16_basic-induction_test.txt\n",
      "./tasks_1-20_v1-2/en/qa17_positional-reasoning_test.txt\n",
      "./tasks_1-20_v1-2/en/qa18_size-reasoning_test.txt\n",
      "./tasks_1-20_v1-2/en/qa19_path-finding_test.txt\n",
      "./tasks_1-20_v1-2/en/qa20_agents-motivations_test.txt\n"
     ]
    }
   ],
   "source": [
    "import glob\n",
    "import os\n",
    "\n",
    "QA = 20\n",
    "test = {}\n",
    "for i in range(QA):  \n",
    "    if (i+1) not in test:\n",
    "        test[i+1] = {}\n",
    "    \n",
    "    search_test = './tasks_1-20_v1-2/en/qa'+str(i+1)+'_*_test.txt'\n",
    "    search_train = './tasks_1-20_v1-2/en/qa'+str(i+1)+'_*_train.txt'\n",
    "    for filename in glob.glob(search_test):\n",
    "        print(filename)    \n",
    "        with open(filename) as f:\n",
    "            Flag = False\n",
    "            counter = 0\n",
    "            for line in f:\n",
    "                lines = line.split('\\t')\n",
    "                if(len(lines)==1):\n",
    "                    if(Flag==True):\n",
    "                        counter+=1\n",
    "                        Flag = False\n",
    "                    if counter in test[i+1]:\n",
    "                        if 'memory' in test[i+1][counter]:\n",
    "                            test[i+1][counter]['memory'].append(line)\n",
    "                        else:\n",
    "                            test[i+1][counter]['memory'] = [line]\n",
    "                    else:\n",
    "                        test[i+1][counter] = {}\n",
    "                        test[i+1][counter]['memory'] = [line]\n",
    "                else:\n",
    "                    test[i+1][counter]['query'] = lines[0]\n",
    "                    test[i+1][counter]['answer'] = lines[1]\n",
    "                    test[i+1][counter]['fact'] = lines[2]\n",
    "                    Flag = True\n",
    "                    \n"
   ]
  },
  {
   "cell_type": "code",
   "execution_count": 4,
   "metadata": {},
   "outputs": [],
   "source": [
    "import pickle\n",
    "\n",
    "with open('train.pickle', 'wb') as handle:\n",
    "    pickle.dump(train, handle, protocol=pickle.HIGHEST_PROTOCOL)\n",
    "\n",
    "with open('test.pickle', 'wb') as handle:\n",
    "    pickle.dump(test, handle, protocol=pickle.HIGHEST_PROTOCOL)\n",
    "      \n",
    "# with open('filename.pickle', 'rb') as handle:\n",
    "#     b = pickle.load(handle)\n"
   ]
  },
  {
   "cell_type": "code",
   "execution_count": null,
   "metadata": {},
   "outputs": [],
   "source": []
  }
 ],
 "metadata": {
  "kernelspec": {
   "display_name": "Python 2",
   "language": "python",
   "name": "python2"
  },
  "language_info": {
   "codemirror_mode": {
    "name": "ipython",
    "version": 2
   },
   "file_extension": ".py",
   "mimetype": "text/x-python",
   "name": "python",
   "nbconvert_exporter": "python",
   "pygments_lexer": "ipython2",
   "version": "2.7.14"
  }
 },
 "nbformat": 4,
 "nbformat_minor": 2
}
